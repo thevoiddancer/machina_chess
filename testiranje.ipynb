{
 "cells": [
  {
   "cell_type": "markdown",
   "metadata": {},
   "source": [
    "# Testiranje funkcija"
   ]
  },
  {
   "cell_type": "markdown",
   "metadata": {},
   "source": [
    "## Testiranje zamjene A1 u (1, 1) i obratno"
   ]
  },
  {
   "cell_type": "code",
   "execution_count": 1,
   "metadata": {},
   "outputs": [
    {
     "name": "stdout",
     "output_type": "stream",
     "text": [
      "Test pretvorbe koordinata:\n",
      "Konverzija dobrog podatka uspješna:\n",
      "A1 -> (1, 1)\n",
      "Konverzija dobrog podatka uspješna:\n",
      "a1 -> (1, 1)\n",
      "Konverzija lošeg podatka (broj) uspješna:\n",
      "A20 -> None\n",
      "Konverzija lošeg podatka (slovo) uspješna:\n",
      "T1 -> None\n"
     ]
    }
   ],
   "source": [
    "from legal_functions import koord_to_tuple\n",
    "\n",
    "print(\"Test pretvorbe koordinata:\")\n",
    "\n",
    "koord_slova = 'A1'\n",
    "očekivano = (1, 1)\n",
    "koord_tuple = koord_to_tuple(koord_slova)\n",
    "if koord_tuple == očekivano:\n",
    "    print(\"Konverzija dobrog podatka uspješna:\")\n",
    "    print(f\"{koord_slova} -> {koord_tuple}\")\n",
    "else:\n",
    "    print(\"Konverzija dobrog podatka neuspješna\")\n",
    "    print(koord_tuple)\n",
    "\n",
    "koord_slova = 'a1'\n",
    "očekivano = (1, 1)\n",
    "koord_tuple = koord_to_tuple(koord_slova)\n",
    "if koord_tuple == očekivano:\n",
    "    print(\"Konverzija dobrog podatka uspješna:\")\n",
    "    print(f\"{koord_slova} -> {koord_tuple}\")\n",
    "else:\n",
    "    print(\"Konverzija dobrog podatka neuspješna\")\n",
    "    print(koord_tuple)\n",
    "\n",
    "koord_slova = 'A20'\n",
    "očekivano = None\n",
    "koord_tuple = koord_to_tuple(koord_slova)\n",
    "if koord_tuple == očekivano:\n",
    "    print(\"Konverzija lošeg podatka (broj) uspješna:\")\n",
    "    print(f\"{koord_slova} -> {koord_tuple}\")\n",
    "else:\n",
    "    print(\"Konverzija lošeg podatka (broj) neuspješna\")\n",
    "\n",
    "koord_slova = 'T1'\n",
    "očekivano = None\n",
    "koord_tuple = koord_to_tuple(koord_slova)\n",
    "if koord_tuple == očekivano:\n",
    "    print(\"Konverzija lošeg podatka (slovo) uspješna:\")\n",
    "    print(f\"{koord_slova} -> {koord_tuple}\")\n",
    "else:\n",
    "    print(\"Konverzija lošeg podatka (slovo) neuspješna\")\n"
   ]
  },
  {
   "cell_type": "code",
   "execution_count": 2,
   "metadata": {},
   "outputs": [
    {
     "name": "stdout",
     "output_type": "stream",
     "text": [
      "Test pretvorbe koordinata:\n",
      "Konverzija dobrog podatka uspješna:\n",
      "(1, 1) -> A1\n",
      "Konverzija lošeg podatka (slovo) uspješna:\n",
      "(20, 1) -> None\n",
      "Konverzija lošeg podatka (broj) uspješna:\n",
      "(1, 20) -> None\n"
     ]
    }
   ],
   "source": [
    "from legal_functions import tuple_to_koord\n",
    "\n",
    "print(\"Test pretvorbe koordinata:\")\n",
    "\n",
    "koord_tuple = (1, 1)\n",
    "očekivano = 'A1'\n",
    "koord_slova = tuple_to_koord(koord_tuple)\n",
    "if koord_slova == očekivano:\n",
    "    print(\"Konverzija dobrog podatka uspješna:\")\n",
    "    print(f\"{koord_tuple} -> {koord_slova}\")\n",
    "else:\n",
    "    print(\"Konverzija dobrog podatka neuspješna\")\n",
    "    print(koord_slova)\n",
    "\n",
    "koord_tuple = (20, 1)\n",
    "očekivano = None\n",
    "koord_slova = tuple_to_koord(koord_tuple)\n",
    "if koord_slova == očekivano:\n",
    "    print(\"Konverzija lošeg podatka (slovo) uspješna:\")\n",
    "    print(f\"{koord_tuple} -> {koord_slova}\")\n",
    "else:\n",
    "    print(\"Konverzija lošeg podatka (slovo) neuspješna\")\n",
    "    print(koord_slova)\n",
    "\n",
    "koord_tuple = (1, 20)\n",
    "očekivano = None\n",
    "koord_slova = tuple_to_koord(koord_tuple)\n",
    "if koord_slova == očekivano:\n",
    "    print(\"Konverzija lošeg podatka (broj) uspješna:\")\n",
    "    print(f\"{koord_tuple} -> {koord_slova}\")\n",
    "else:\n",
    "    print(\"Konverzija lošeg podatka (broj) neuspješna\")\n",
    "    print(koord_slova)\n",
    "\n"
   ]
  },
  {
   "cell_type": "markdown",
   "metadata": {},
   "source": [
    "## Testiranje funkcije za kretanje pijuna"
   ]
  },
  {
   "cell_type": "code",
   "execution_count": 3,
   "metadata": {},
   "outputs": [
    {
     "name": "stdout",
     "output_type": "stream",
     "text": [
      "Test legalnog poteza uspješan:\n",
      "C2 -> C4\n",
      "Test legalnog poteza uspješan:\n",
      "C5 -> C6\n",
      "Test nelegalnog poteza uspješan:\n",
      "C5 -/-> C7\n",
      "Test nelegalnog poteza uspješan:\n",
      "C5 -/-> C4\n",
      "Test nelegalnog poteza uspješan:\n",
      "C5 -/-> D6\n",
      "Test legalnog poteza uspješan:\n",
      "C7 -> C5\n",
      "Test nelegalnog poteza uspješan:\n",
      "C5 -/-> C6\n"
     ]
    }
   ],
   "source": [
    "from legal_functions import legal_pijun\n",
    "\n",
    "pijun = {\n",
    "    'boja': 'bijelo',\n",
    "    'tip': 'pijun',\n",
    "    'mjesto': 'C2'\n",
    "}\n",
    "cilj = 'C4'  # Preskoči 2 mjesta kao prvi potez\n",
    "očekivano = True\n",
    "legalno = legal_pijun(pijun, cilj)\n",
    "if legalno == očekivano:\n",
    "    print(\"Test legalnog poteza uspješan:\")\n",
    "    print(f\"{pijun['mjesto']} -> {cilj}\")\n",
    "else:\n",
    "    print(\"Test legalnog poteza neuspješan\")\n",
    "\n",
    "pijun = {\n",
    "    'boja': 'bijelo',\n",
    "    'tip': 'pijun',\n",
    "    'mjesto': 'C5'\n",
    "}\n",
    "cilj = 'C6'  # Samo 1 korak\n",
    "očekivano = True\n",
    "legalno = legal_pijun(pijun, cilj)\n",
    "if legalno == očekivano:\n",
    "    print(\"Test legalnog poteza uspješan:\")\n",
    "    print(f\"{pijun['mjesto']} -> {cilj}\")\n",
    "else:\n",
    "    print(\"Test legalnog poteza neuspješan\")\n",
    "\n",
    "pijun = {\n",
    "    'boja': 'bijelo',\n",
    "    'tip': 'pijun',\n",
    "    'mjesto': 'C5'\n",
    "}\n",
    "cilj = 'C7'  # 2 koraka ne može\n",
    "očekivano = False\n",
    "legalno = legal_pijun(pijun, cilj)\n",
    "if legalno == očekivano:\n",
    "    print(\"Test nelegalnog poteza uspješan:\")\n",
    "    print(f\"{pijun['mjesto']} -/-> {cilj}\")\n",
    "else:\n",
    "    print(\"Test nelegalnog poteza neuspješan\")\n",
    "\n",
    "pijun = {\n",
    "    'boja': 'bijelo',\n",
    "    'tip': 'pijun',\n",
    "    'mjesto': 'C5'\n",
    "}\n",
    "cilj = 'C4'  # 1 korak nazad ne može\n",
    "očekivano = False\n",
    "legalno = legal_pijun(pijun, cilj)\n",
    "if legalno == očekivano:\n",
    "    print(\"Test nelegalnog poteza uspješan:\")\n",
    "    print(f\"{pijun['mjesto']} -/-> {cilj}\")\n",
    "else:\n",
    "    print(\"Test nelegalnog poteza neuspješan\")\n",
    "\n",
    "\n",
    "pijun = {\n",
    "    'boja': 'bijelo',\n",
    "    'tip': 'pijun',\n",
    "    'mjesto': 'C5'\n",
    "}\n",
    "cilj = 'D6'  # 1 korak u stranu ne može\n",
    "očekivano = False\n",
    "legalno = legal_pijun(pijun, cilj)\n",
    "if legalno == očekivano:\n",
    "    print(\"Test nelegalnog poteza uspješan:\")\n",
    "    print(f\"{pijun['mjesto']} -/-> {cilj}\")\n",
    "else:\n",
    "    print(\"Test nelegalnog poteza neuspješan\")\n",
    "\n",
    "pijun = {\n",
    "    'boja': 'crno',\n",
    "    'tip': 'pijun',\n",
    "    'mjesto': 'C7'\n",
    "}\n",
    "cilj = 'C5'  # Preskoči 2 mjesta kao prvi potez\n",
    "očekivano = True\n",
    "legalno = legal_pijun(pijun, cilj)\n",
    "if legalno == očekivano:\n",
    "    print(\"Test legalnog poteza uspješan:\")\n",
    "    print(f\"{pijun['mjesto']} -> {cilj}\")\n",
    "else:\n",
    "    print(\"Test legalnog poteza neuspješan\")\n",
    "\n",
    "pijun = {\n",
    "    'boja': 'crno',\n",
    "    'tip': 'pijun',\n",
    "    'mjesto': 'C5'\n",
    "}\n",
    "cilj = 'C6'  # 1 korak nazad ne može\n",
    "očekivano = False\n",
    "legalno = legal_pijun(pijun, cilj)\n",
    "if legalno == očekivano:\n",
    "    print(\"Test nelegalnog poteza uspješan:\")\n",
    "    print(f\"{pijun['mjesto']} -/-> {cilj}\")\n",
    "else:\n",
    "    print(\"Test nelegalnog poteza neuspješan\")\n"
   ]
  },
  {
   "cell_type": "markdown",
   "metadata": {},
   "source": [
    "## Testiranje vaše funkcije"
   ]
  },
  {
   "cell_type": "markdown",
   "metadata": {},
   "source": [
    "Ovdje testirate što više opcija za svoju funkciju. Važno je napisati situacije kada je potez legalan, ali i kad nije. Ne morate testirati krive koordinate, to se testiralo gore."
   ]
  },
  {
   "cell_type": "code",
   "execution_count": 2,
   "metadata": {},
   "outputs": [
    {
     "name": "stdout",
     "output_type": "stream",
     "text": [
      "Test legalnog poteza uspjesan\n",
      "A1 -> B1\n",
      "----------------------------\n",
      "Test legalnog poteza uspjesan\n",
      "A1 -> A8\n",
      "------------------------------\n",
      "Test legalnog poteza neuspjesan\n"
     ]
    }
   ],
   "source": [
    "# YOUR TESTS HERE\n",
    "\n",
    "\n",
    "# KULA(top)\n",
    "\n",
    "from legal_functions import legal_kula\n",
    "top = {\n",
    "    \"boja\" : \"bijelo\",\n",
    "    \"tip\" : \"top\",\n",
    "    \"mjesto\" : \"A1\"\n",
    "}\n",
    "cilj = \"B1\" # pokret po slovima(x)\n",
    "ocekivano = True\n",
    "test = legal_kula(top,cilj)\n",
    "if test == ocekivano:\n",
    "    print(\"Test legalnog poteza uspjesan\")\n",
    "    print(f\"{top['mjesto']} -> {cilj}\")\n",
    "else:\n",
    "    print(\"Test legalnog poteza neuspjesan\")\n",
    "print(\"----------------------------\")\n",
    "top = {\n",
    "    \"boja\" : \"crno\",\n",
    "    \"tip\" : \"top\",\n",
    "    \"mjesto\" : \"A1\"\n",
    "}\n",
    "cilj = \"A8\" # pokret po slovima(x)\n",
    "ocekivano = True\n",
    "test = legal_kula(top,cilj)\n",
    "if test == ocekivano:\n",
    "    print(\"Test legalnog poteza uspjesan\")\n",
    "    print(f\"{top['mjesto']} -> {cilj}\")\n",
    "else:\n",
    "    print(\"Test legalnog poteza neuspjesan\")\n",
    "print(\"------------------------------\")\n",
    "top = {\n",
    "    \"boja\" : \"crno\",\n",
    "    \"tip\" : \"top\",\n",
    "    \"mjesto\" : \"A1\"\n",
    "}\n",
    "cilj = \"A1\" # pokret po slovima(x)\n",
    "ocekivano = True\n",
    "test = legal_kula(top,cilj)\n",
    "if test == ocekivano:\n",
    "    print(\"Test legalnog poteza uspjesan\")\n",
    "    print(f\"{top['mjesto']} -> {cilj}\")\n",
    "else:\n",
    "    print(\"Test legalnog poteza neuspjesan\")"
   ]
  },
  {
   "cell_type": "markdown",
   "metadata": {},
   "source": [
    "## Testiranje funkcije za pravilnu selekciju legalne funkcije"
   ]
  },
  {
   "cell_type": "markdown",
   "metadata": {},
   "source": [
    "Ovdje testiramo samo selekciju raznih funkcija, pa je dosta samo jedan primjer od svake"
   ]
  },
  {
   "cell_type": "code",
   "execution_count": 5,
   "metadata": {},
   "outputs": [
    {
     "name": "stdout",
     "output_type": "stream",
     "text": [
      "Provjera legalnog poteza za pijun uspješna:\n",
      "B2 -> B3\n",
      "---------------------------\n",
      "Provjera legalnog poteza za kula uspješna:\n",
      "B2 -> D2\n"
     ]
    }
   ],
   "source": [
    "from legal_functions import is_move_legal\n",
    "\n",
    "figura = {\n",
    "    'boja': 'bijelo',\n",
    "    'tip': 'pijun',\n",
    "    'mjesto': 'B2'\n",
    "}\n",
    "cilj = 'B3'\n",
    "očekivano = True\n",
    "rezultat = is_move_legal(figura, cilj)\n",
    "if rezultat == očekivano:\n",
    "    print(f\"Provjera legalnog poteza za {figura['tip']} uspješna:\")\n",
    "    print(f\"{figura['mjesto']} -> {cilj}\")\n",
    "else:\n",
    "    print(f\"Provjera legalnog poteza za {figura['tip']} neuspješna\")\n",
    "\n",
    "\n",
    "print(\"---------------------------\")\n",
    "# Za ostale figure - obrišite one koje vam ne trebaju\n",
    "\n",
    "figura = {\n",
    "    'boja': 'bijelo',\n",
    "    'tip': 'kula',\n",
    "    'mjesto': 'B2'\n",
    "}\n",
    "cilj = 'D2'\n",
    "očekivano = True\n",
    "rezultat = is_move_legal(figura, cilj)\n",
    "if rezultat == očekivano:\n",
    "    print(f\"Provjera legalnog poteza za {figura['tip']} uspješna:\")\n",
    "    print(f\"{figura['mjesto']} -> {cilj}\")\n",
    "else:\n",
    "    print(f\"Provjera legalnog poteza za {figura['tip']} neuspješna\")\n",
    "\n",
    "\n"
   ]
  }
 ],
 "metadata": {
  "kernelspec": {
   "display_name": "Python 3",
   "language": "python",
   "name": "python3"
  },
  "language_info": {
   "codemirror_mode": {
    "name": "ipython",
    "version": 3
   },
   "file_extension": ".py",
   "mimetype": "text/x-python",
   "name": "python",
   "nbconvert_exporter": "python",
   "pygments_lexer": "ipython3",
   "version": "3.12.3"
  }
 },
 "nbformat": 4,
 "nbformat_minor": 2
}
