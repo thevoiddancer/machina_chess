{
 "cells": [
  {
   "cell_type": "markdown",
   "metadata": {},
   "source": [
    "# Figura"
   ]
  },
  {
   "cell_type": "code",
   "execution_count": 1,
   "metadata": {},
   "outputs": [
    {
     "name": "stdout",
     "output_type": "stream",
     "text": [
      "K(A1)\n",
      "(1, 1)\n"
     ]
    }
   ],
   "source": [
    "from objekti import Figura\n",
    "\n",
    "x = Figura('bijelo', 'Kralj', 'A1')\n",
    "print(x)\n",
    "print(x.položaj_tup)"
   ]
  },
  {
   "cell_type": "markdown",
   "metadata": {},
   "source": [
    "# Igrač"
   ]
  },
  {
   "cell_type": "code",
   "execution_count": 2,
   "metadata": {},
   "outputs": [
    {
     "name": "stdout",
     "output_type": "stream",
     "text": [
      "Tomislav B\n",
      "[K(E1)]\n",
      "[K(E1), D(D1), T(A1), T(H1), S(B1), S(G1), L(C1), L(F1), P(A2), P(B2), P(C2), P(D2), P(E2), P(F2), P(G2), P(H2)]\n"
     ]
    }
   ],
   "source": [
    "from objekti import Igrač\n",
    "\n",
    "ime = 'Tomislav'\n",
    "y = Igrač(ime, 'bijelo')\n",
    "print(y)\n",
    "print(y.kralj)\n",
    "print(y.figure)"
   ]
  },
  {
   "cell_type": "markdown",
   "metadata": {},
   "source": [
    "# Igra"
   ]
  },
  {
   "cell_type": "markdown",
   "metadata": {},
   "source": [
    "## Postavljanje"
   ]
  },
  {
   "cell_type": "code",
   "execution_count": 1,
   "metadata": {},
   "outputs": [
    {
     "data": {
      "text/plain": [
       "{'E1': K(E1),\n",
       " 'D1': D(D1),\n",
       " 'A1': T(A1),\n",
       " 'H1': T(H1),\n",
       " 'B1': S(B1),\n",
       " 'G1': S(G1),\n",
       " 'C1': L(C1),\n",
       " 'F1': L(F1),\n",
       " 'A2': P(A2),\n",
       " 'B2': P(B2),\n",
       " 'C2': P(C2),\n",
       " 'D2': P(D2),\n",
       " 'E2': P(E2),\n",
       " 'F2': P(F2),\n",
       " 'G2': P(G2),\n",
       " 'H2': P(H2),\n",
       " 'E8': K(E8),\n",
       " 'D8': D(D8),\n",
       " 'A8': T(A8),\n",
       " 'H8': T(H8),\n",
       " 'B8': S(B8),\n",
       " 'G8': S(G8),\n",
       " 'C8': L(C8),\n",
       " 'F8': L(F8),\n",
       " 'A7': P(A7),\n",
       " 'B7': P(B7),\n",
       " 'C7': P(C7),\n",
       " 'D7': P(D7),\n",
       " 'E7': P(E7),\n",
       " 'F7': P(F7),\n",
       " 'G7': P(G7),\n",
       " 'H7': P(H7)}"
      ]
     },
     "execution_count": 1,
     "metadata": {},
     "output_type": "execute_result"
    }
   ],
   "source": [
    "from main import postavljanje_ploče\n",
    "\n",
    "igrači, ploča = postavljanje_ploče()\n",
    "ploča"
   ]
  },
  {
   "cell_type": "markdown",
   "metadata": {},
   "source": []
  }
 ],
 "metadata": {
  "kernelspec": {
   "display_name": "machina_chess",
   "language": "python",
   "name": "python3"
  },
  "language_info": {
   "codemirror_mode": {
    "name": "ipython",
    "version": 3
   },
   "file_extension": ".py",
   "mimetype": "text/x-python",
   "name": "python",
   "nbconvert_exporter": "python",
   "pygments_lexer": "ipython3",
   "version": "3.11.11"
  }
 },
 "nbformat": 4,
 "nbformat_minor": 2
}
