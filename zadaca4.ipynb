{
 "cells": [
  {
   "cell_type": "code",
   "execution_count": null,
   "metadata": {},
   "outputs": [
    {
     "name": "stdout",
     "output_type": "stream",
     "text": [
      "Ocjene su: ['5', '5', '4', '5']\n",
      "Prosjek je: 4.75\n",
      "Željeni prosjek je 3.5\n",
      "Potrebna ocjena van raspona je: -1.5\n",
      "Dodatne ocjene potrebne za postizanje željenog prosjeka: [1, 1]\n",
      "Novi niz ocjena: [5, 5, 4, 5, 1, 1]\n",
      "Novi prosjek: 3.5\n"
     ]
    }
   ],
   "source": [
    "ocjene = input(\"Unesi ocjene odvojene razmakom: \")\n",
    "ocjene = ocjene.split()\n",
    "broj_ocjena = len(ocjene)\n",
    "\n",
    "nove_ocjene = [int(x) for x in ocjene]\n",
    "zbroj = sum(nove_ocjene)\n",
    "\n",
    "prosjek = zbroj / broj_ocjena\n",
    "\n",
    "print(f\"Ocjene su: {ocjene}\")\n",
    "print(f\"Prosjek je: {prosjek}\")\n",
    "\n",
    "želja = float(input(\"Unesi željeni prosjek: \"))\n",
    "print(f\"Željeni prosjek je {želja}\") \n",
    "\n",
    "# A zadatak\n",
    "potrebna_ocjena = želja * (broj_ocjena + 1) - zbroj\n",
    "potrebna_ocjena = round(potrebna_ocjena, 2)\n",
    "print(f\"Potrebna ocjena van raspona je: {potrebna_ocjena}\")\n",
    "\n",
    "# B zadatak\n",
    "dodatne_ocjene = []\n",
    "moguće_ocjene = [1, 2, 3, 4, 5]\n",
    "\n",
    "while round(sum(nove_ocjene) / len(nove_ocjene), 2) != želja:\n",
    "    najbolja_ocjena = None\n",
    "    najbolja_razlika = float(\"inf\")\n",
    "\n",
    "    for ocjena in moguće_ocjene:\n",
    "        novi_prosjek = (sum(nove_ocjene) + ocjena) / (len(nove_ocjene) + 1)\n",
    "        razlika = abs(novi_prosjek - želja)\n",
    "\n",
    "        if razlika < najbolja_razlika:\n",
    "            najbolja_ocjena = ocjena\n",
    "            najbolja_razlika = razlika\n",
    "            \n",
    "    nove_ocjene.append(najbolja_ocjena)\n",
    "    dodatne_ocjene.append(najbolja_ocjena)\n",
    "\n",
    "print(f\"Dodatne ocjene potrebne za postizanje željenog prosjeka: {dodatne_ocjene}\")\n",
    "print(f\"Novi niz ocjena: {nove_ocjene}\")\n",
    "print(f\"Novi prosjek: {sum(nove_ocjene) / len(nove_ocjene)}\")\n",
    "\n",
    "\n",
    "\n",
    "\n",
    "    "
   ]
  }
 ],
 "metadata": {
  "kernelspec": {
   "display_name": "base",
   "language": "python",
   "name": "python3"
  },
  "language_info": {
   "codemirror_mode": {
    "name": "ipython",
    "version": 3
   },
   "file_extension": ".py",
   "mimetype": "text/x-python",
   "name": "python",
   "nbconvert_exporter": "python",
   "pygments_lexer": "ipython3",
   "version": "3.11.5"
  }
 },
 "nbformat": 4,
 "nbformat_minor": 2
}
