{
 "cells": [
  {
   "cell_type": "markdown",
   "metadata": {},
   "source": [
    "Python 2"
   ]
  },
  {
   "cell_type": "code",
   "execution_count": 3,
   "metadata": {},
   "outputs": [
    {
     "data": {
      "text/plain": [
       "5"
      ]
     },
     "execution_count": 3,
     "metadata": {},
     "output_type": "execute_result"
    }
   ],
   "source": [
    "2+3"
   ]
  },
  {
   "cell_type": "markdown",
   "metadata": {},
   "source": [
    "Zadatak: preračunaj m i dm u cm"
   ]
  },
  {
   "cell_type": "markdown",
   "metadata": {},
   "source": [
    "Zadatak unesi 3 stranice i opiši koji tip trokuta"
   ]
  },
  {
   "cell_type": "code",
   "execution_count": null,
   "metadata": {},
   "outputs": [
    {
     "name": "stdout",
     "output_type": "stream",
     "text": [
      "Stranice su:  3 8 4\n",
      "Raznostranican\n"
     ]
    }
   ],
   "source": [
    "a = int(input(\"Unesite stranicu: \"))\n",
    "b= int(input(\"Unesite stranicu: \"))\n",
    "c= int(input(\"Unesite stranicu: \"))\n",
    "\n",
    "print(\"Stranice su: \", a, b, c)\n",
    "\n",
    "if a == b == c:\n",
    "    print(\"Jednakostranican\")\n",
    "elif a **2 + b**2 == c**2:\n",
    "    print(\"Pravokutan\")\n",
    "elif (a == b !=c) or (a == c != b) or (b == c != a):\n",
    "    print(\"Jednakokracan\")\n",
    "else:\n",
    "    print(\"Raznostranican\")"
   ]
  },
  {
   "cell_type": "markdown",
   "metadata": {},
   "source": [
    "Zadatak dvokratni rad trgovine"
   ]
  },
  {
   "cell_type": "code",
   "execution_count": 21,
   "metadata": {},
   "outputs": [
    {
     "name": "stdout",
     "output_type": "stream",
     "text": [
      "radi\n"
     ]
    }
   ],
   "source": [
    "#8-11:30\n",
    "sat =int(input(\"Unesite sat: \"))\n",
    "minute = int(input(\"Unesite minute: \"))\n",
    "\n",
    "if 8 <= sat < 11 or (sat == 11 and minute < 30) or (sat==14 and minute < 30) or (15 <= sat <18):\n",
    "    print(\"radi\")\n",
    "else:\n",
    "    print(\"ne radi\")"
   ]
  },
  {
   "cell_type": "code",
   "execution_count": 29,
   "metadata": {},
   "outputs": [
    {
     "data": {
      "text/plain": [
       "8"
      ]
     },
     "execution_count": 29,
     "metadata": {},
     "output_type": "execute_result"
    }
   ],
   "source": [
    "import random\n",
    "random.randint(1, 10)"
   ]
  },
  {
   "cell_type": "code",
   "execution_count": 44,
   "metadata": {},
   "outputs": [
    {
     "name": "stdout",
     "output_type": "stream",
     "text": [
      "0:00:01.521383\n"
     ]
    }
   ],
   "source": [
    "import datetime as dt\n",
    "now= dt.datetime.now()\n",
    "input()\n",
    "end = dt.datetime.now()\n",
    "\n",
    "print(end-now)"
   ]
  },
  {
   "cell_type": "code",
   "execution_count": 50,
   "metadata": {},
   "outputs": [
    {
     "data": {
      "text/plain": [
       "'20: 01'"
      ]
     },
     "execution_count": 50,
     "metadata": {},
     "output_type": "execute_result"
    }
   ],
   "source": [
    "now = dt.datetime.now()\n",
    "now.strftime('%H: %M')"
   ]
  },
  {
   "cell_type": "code",
   "execution_count": 51,
   "metadata": {},
   "outputs": [
    {
     "data": {
      "text/plain": [
       "datetime.datetime(2001, 9, 26, 0, 0)"
      ]
     },
     "execution_count": 51,
     "metadata": {},
     "output_type": "execute_result"
    }
   ],
   "source": [
    "birthday='26-09-2001'\n",
    "birthday= dt.datetime.strptime(birthday, '%d-%m-%Y').date()\n",
    "now = dt.datetime.now().date()\n",
    "now-birthday"
   ]
  },
  {
   "cell_type": "markdown",
   "metadata": {},
   "source": [
    "Učitaj godinu mjesec i dan rodenja\n"
   ]
  },
  {
   "cell_type": "code",
   "execution_count": null,
   "metadata": {},
   "outputs": [],
   "source": [
    "godina = int(input(\"Unesite godinu: \"))\n",
    "mjesec = int(input(\"Unesite mjesec: \"))\n",
    "dan= int(input(\"Unesite dan: \"))\n",
    "\n",
    "datum_rod = dt.date(godina, mjesec, dan)\n",
    "danas= dt.datetime.now().date()\n",
    "(danas - datum_rod).days"
   ]
  },
  {
   "cell_type": "code",
   "execution_count": 58,
   "metadata": {},
   "outputs": [
    {
     "data": {
      "text/plain": [
       "-72261"
      ]
     },
     "execution_count": 58,
     "metadata": {},
     "output_type": "execute_result"
    }
   ],
   "source": [
    "(danas - datum_rod).days"
   ]
  },
  {
   "cell_type": "markdown",
   "metadata": {},
   "source": [
    "vrati koji je bio dan u tjednu 1.dan ovaj mjesec"
   ]
  },
  {
   "cell_type": "code",
   "execution_count": 61,
   "metadata": {},
   "outputs": [
    {
     "data": {
      "text/plain": [
       "'Saturday'"
      ]
     },
     "execution_count": 61,
     "metadata": {},
     "output_type": "execute_result"
    }
   ],
   "source": [
    "danas =dt.datetime.now().date()\n",
    "godina = danas.year\n",
    "mjesec = danas.month+1\n",
    "prvi_dan = dt.datetime(godina, mjesec, 1)\n",
    "prvi_dan.strftime('%A')"
   ]
  },
  {
   "cell_type": "markdown",
   "metadata": {},
   "source": [
    "vrati koji je bio dan u tjednu kad je netko roden"
   ]
  },
  {
   "cell_type": "code",
   "execution_count": 64,
   "metadata": {},
   "outputs": [
    {
     "data": {
      "text/plain": [
       "'22.1.2020'"
      ]
     },
     "execution_count": 64,
     "metadata": {},
     "output_type": "execute_result"
    }
   ],
   "source": [
    "print = dt.datetime.now().strftime('22.1.2020 %d.%m.%Y.')\n",
    "'22.1.2020'"
   ]
  },
  {
   "cell_type": "markdown",
   "metadata": {},
   "source": [
    "pogađanje broja"
   ]
  },
  {
   "cell_type": "code",
   "execution_count": 74,
   "metadata": {},
   "outputs": [
    {
     "ename": "TypeError",
     "evalue": "'str' object is not callable",
     "output_type": "error",
     "traceback": [
      "\u001b[1;31m---------------------------------------------------------------------------\u001b[0m",
      "\u001b[1;31mTypeError\u001b[0m                                 Traceback (most recent call last)",
      "Cell \u001b[1;32mIn[74], line 3\u001b[0m\n\u001b[0;32m      1\u001b[0m špil \u001b[38;5;241m=\u001b[39m random\u001b[38;5;241m.\u001b[39mchoice(\u001b[38;5;124m'\u001b[39m\u001b[38;5;124m♠♥♦♣\u001b[39m\u001b[38;5;124m'\u001b[39m)\n\u001b[0;32m      2\u001b[0m vrijednost\u001b[38;5;241m=\u001b[39m random\u001b[38;5;241m.\u001b[39mchoice(\u001b[38;5;124m'\u001b[39m\u001b[38;5;124m23456789XJQKA\u001b[39m\u001b[38;5;124m'\u001b[39m)\n\u001b[1;32m----> 3\u001b[0m \u001b[38;5;28;43mprint\u001b[39;49m\u001b[43m(\u001b[49m\u001b[43mšpil\u001b[49m\u001b[43m,\u001b[49m\u001b[43m \u001b[49m\u001b[43mvrijednost\u001b[49m\u001b[43m)\u001b[49m\n\u001b[0;32m      4\u001b[0m \u001b[38;5;28;01mif\u001b[39;00m vrijednost \u001b[38;5;241m==\u001b[39m \u001b[38;5;124m'\u001b[39m\u001b[38;5;124mX\u001b[39m\u001b[38;5;124m'\u001b[39m:\n\u001b[0;32m      5\u001b[0m     vrijednost \u001b[38;5;241m=\u001b[39m \u001b[38;5;124m'\u001b[39m\u001b[38;5;124m10\u001b[39m\u001b[38;5;124m'\u001b[39m\n",
      "\u001b[1;31mTypeError\u001b[0m: 'str' object is not callable"
     ]
    }
   ],
   "source": [
    "špil = random.choice('♠♥♦♣')\n",
    "vrijednost= random.choice('23456789XJQKA')\n",
    "print(špil, vrijednost)\n",
    "if vrijednost == 'X':\n",
    "    vrijednost = '10'\n",
    "(špil, vrijednost)    "
   ]
  }
 ],
 "metadata": {
  "kernelspec": {
   "display_name": "base",
   "language": "python",
   "name": "python3"
  },
  "language_info": {
   "codemirror_mode": {
    "name": "ipython",
    "version": 3
   },
   "file_extension": ".py",
   "mimetype": "text/x-python",
   "name": "python",
   "nbconvert_exporter": "python",
   "pygments_lexer": "ipython3",
   "version": "3.11.5"
  }
 },
 "nbformat": 4,
 "nbformat_minor": 2
}
