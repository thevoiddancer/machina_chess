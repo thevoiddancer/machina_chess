{
 "cells": [
  {
   "cell_type": "code",
   "execution_count": 10,
   "metadata": {},
   "outputs": [
    {
     "name": "stdout",
     "output_type": "stream",
     "text": [
      "0\n",
      "1\n",
      "2\n",
      "3\n",
      "4\n",
      "5\n",
      "6\n",
      "8\n",
      "9\n",
      "10\n",
      "11\n",
      "12\n",
      "13\n",
      "14\n",
      "15\n"
     ]
    }
   ],
   "source": [
    "kat = 0\n",
    "while kat <=15:\n",
    "    if kat == 7:\n",
    "        kat +=1\n",
    "        continue\n",
    "    print(kat)\n",
    "    kat +=1"
   ]
  },
  {
   "cell_type": "code",
   "execution_count": null,
   "metadata": {},
   "outputs": [],
   "source": [
    "broj = input('Unesi broj')\n",
    "\n",
    "while broj.isnumeric():#koristi ćemo u budućnosti za skršiti programe\n",
    "    broj = input('unesi broj')\n",
    "    \n",
    "broj = int(broj)\n",
    "\n",
    "print(broj * 1000)"
   ]
  },
  {
   "cell_type": "markdown",
   "metadata": {},
   "source": [
    "unosi tekst dok ne uneses prazan\n"
   ]
  },
  {
   "cell_type": "code",
   "execution_count": 2,
   "metadata": {},
   "outputs": [],
   "source": [
    "rijec = input(\"Unesi rijec\")\n",
    "#bool od bilo cega je istinit jedino od praznog stringa je false\n",
    "while rijec:\n",
    "    rijec = input(\"Unesi rijec\")\n",
    "    \n"
   ]
  },
  {
   "cell_type": "code",
   "execution_count": 7,
   "metadata": {},
   "outputs": [
    {
     "name": "stdout",
     "output_type": "stream",
     "text": [
      "miki\n",
      "mifo\n"
     ]
    }
   ],
   "source": [
    "broj_igraca =input(\"Unesi broj igraca\")\n",
    "while not broj_igraca.isnumeric():\n",
    "    broj_igraca = input('unesi broj igraca')\n",
    "broj_igraca=int(broj_igraca)\n",
    "    \n",
    "broj_imena=0\n",
    "while broj_imena < broj_igraca:\n",
    "    ime = input('Unesi ime')\n",
    "    print(ime)\n",
    "    broj_imena += 1"
   ]
  },
  {
   "cell_type": "code",
   "execution_count": 10,
   "metadata": {},
   "outputs": [
    {
     "name": "stdout",
     "output_type": "stream",
     "text": [
      "Broj je manji\n",
      "Broj je manji\n",
      "Broj je manji\n",
      "Broj je manji\n",
      "Broj je manji\n",
      "Čestitke!\n"
     ]
    }
   ],
   "source": [
    "import random\n",
    "zam_br=random.randint(1, 10)\n",
    "pokusaj= int(input(\"Unesi broj\"))\n",
    "\n",
    "while pokusaj != zam_br:\n",
    "    if pokusaj < zam_br:\n",
    "        print(\"Broj je manji\")\n",
    "    else:\n",
    "        print(\"Broj je veci\")\n",
    "    pokusaj=int(input(\"Unesi broj\"))\n",
    "print(\"Čestitke!\")\n",
    "\n"
   ]
  },
  {
   "cell_type": "markdown",
   "metadata": {},
   "source": [
    "napiši program  za login, nakon 3.pokušaja se doda pitanje \"jesi li čovjek\""
   ]
  },
  {
   "cell_type": "code",
   "execution_count": null,
   "metadata": {},
   "outputs": [
    {
     "ename": "",
     "evalue": "",
     "output_type": "error",
     "traceback": [
      "\u001b[1;31mCannot execute code, session has been disposed. Please try restarting the Kernel."
     ]
    },
    {
     "ename": "",
     "evalue": "",
     "output_type": "error",
     "traceback": [
      "\u001b[1;31mCannot execute code, session has been disposed. Please try restarting the Kernel. \n",
      "\u001b[1;31mView Jupyter <a href='command:jupyter.viewOutput'>log</a> for further details."
     ]
    }
   ],
   "source": [
    "username= \"machina\"\n",
    "password= \"pass1234\"\n",
    "input\n",
    "\n",
    "while True:\n",
    "       username = input('Unesi username')\n",
    "       password = input('Unesi lozinku')\n",
    "\n",
    "       if username == \n",
    "\n",
    "\n"
   ]
  },
  {
   "cell_type": "code",
   "execution_count": null,
   "metadata": {},
   "outputs": [],
   "source": []
  }
 ],
 "metadata": {
  "kernelspec": {
   "display_name": "base",
   "language": "python",
   "name": "python3"
  },
  "language_info": {
   "codemirror_mode": {
    "name": "ipython",
    "version": 3
   },
   "file_extension": ".py",
   "mimetype": "text/x-python",
   "name": "python",
   "nbconvert_exporter": "python",
   "pygments_lexer": "ipython3",
   "version": "3.11.5"
  }
 },
 "nbformat": 4,
 "nbformat_minor": 2
}
