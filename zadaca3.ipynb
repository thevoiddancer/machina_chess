{
 "cells": [
  {
   "cell_type": "code",
   "execution_count": 1,
   "metadata": {},
   "outputs": [
    {
     "ename": "ValueError",
     "evalue": "not enough values to unpack (expected 2, got 1)",
     "output_type": "error",
     "traceback": [
      "\u001b[1;31m---------------------------------------------------------------------------\u001b[0m",
      "\u001b[1;31mValueError\u001b[0m                                Traceback (most recent call last)",
      "Cell \u001b[1;32mIn[1], line 8\u001b[0m\n\u001b[0;32m      5\u001b[0m zdravlje_prvi\u001b[38;5;241m=\u001b[39m\u001b[38;5;28minput\u001b[39m(\u001b[38;5;124m\"\u001b[39m\u001b[38;5;124mUnesi zdravlje prvoga lika: \u001b[39m\u001b[38;5;124m\"\u001b[39m)\n\u001b[0;32m      6\u001b[0m zdravlje_drugi\u001b[38;5;241m=\u001b[39m\u001b[38;5;28minput\u001b[39m(\u001b[38;5;124m\"\u001b[39m\u001b[38;5;124mUnesi zdravlje drugoga lika: \u001b[39m\u001b[38;5;124m\"\u001b[39m)\n\u001b[1;32m----> 8\u001b[0m steta1_min, steta1_max \u001b[38;5;241m=\u001b[39m \u001b[38;5;28mmap\u001b[39m(\u001b[38;5;28mint\u001b[39m, \u001b[38;5;28minput\u001b[39m(\u001b[38;5;124m\"\u001b[39m\u001b[38;5;124mUnesi raspon štete za prvi lik: \u001b[39m\u001b[38;5;124m\"\u001b[39m)\u001b[38;5;241m.\u001b[39msplit(\u001b[38;5;124m'\u001b[39m\u001b[38;5;124m-\u001b[39m\u001b[38;5;124m'\u001b[39m))\n\u001b[0;32m      9\u001b[0m steta2_min, steta2_max \u001b[38;5;241m=\u001b[39m \u001b[38;5;28mmap\u001b[39m(\u001b[38;5;28mint\u001b[39m, \u001b[38;5;28minput\u001b[39m(\u001b[38;5;124m\"\u001b[39m\u001b[38;5;124mUnesi raspon štete za drugi lik: \u001b[39m\u001b[38;5;124m\"\u001b[39m)\u001b[38;5;241m.\u001b[39msplit(\u001b[38;5;124m'\u001b[39m\u001b[38;5;124m-\u001b[39m\u001b[38;5;124m'\u001b[39m))\n\u001b[0;32m     11\u001b[0m \u001b[38;5;28;01mwhile\u001b[39;00m zdravlje_prvi \u001b[38;5;241m>\u001b[39m \u001b[38;5;241m0\u001b[39m \u001b[38;5;129;01mand\u001b[39;00m zdravlje_drugi \u001b[38;5;241m>\u001b[39m \u001b[38;5;241m0\u001b[39m:\n",
      "\u001b[1;31mValueError\u001b[0m: not enough values to unpack (expected 2, got 1)"
     ]
    }
   ],
   "source": [
    "import random\n",
    "prvi= input(\"Unesi ime prvoga lika: \")\n",
    "drugi= input(\"Unesi ime drugoga lika: \")\n",
    "\n",
    "zdravlje_prvi=input(\"Unesi zdravlje prvoga lika: \")\n",
    "zdravlje_drugi=input(\"Unesi zdravlje drugoga lika: \")\n",
    "\n",
    "steta1_min, steta1_max = map(int, input(\"Unesi raspon štete za prvi lik: \").split('-'))\n",
    "steta2_min, steta2_max = map(int, input(\"Unesi raspon štete za drugi lik: \").split('-'))\n",
    "\n",
    "while zdravlje_prvi > 0 and zdravlje_drugi > 0:\n",
    "    \n",
    "    steta = random.randint(steta1_min, steta1_max)\n",
    "    zdravlje_drugi -= steta\n",
    "    print(f\"\\n{prvi} napada {drugi} i nanosi {steta} štete. {drugi} HP: {max(zdravlje_drugi, 0)}\")\n",
    "    \n",
    "    if zdravlje_drugi <= 0:\n",
    "        break  \n",
    "    \n",
    "    \n",
    "    steta = random.randint(steta2_min, steta2_max)\n",
    "    zdravlje_prvi -= steta\n",
    "    print(f\"{drugi} napada {prvi} i nanosi {steta} štete. {prvi} HP: {max(zdravlje_prvi, 0)}\")\n",
    "\n",
    "if zdravlje_prvi > 0:\n",
    "    print(f\"\\n{prvi} je pobijedio s preostalih {zdravlje_prvi} HP!\")\n",
    "else:\n",
    "    print(f\"\\n{drugi} je pobijedio s preostalih {zdravlje_drugi} HP!\")"
   ]
  }
 ],
 "metadata": {
  "kernelspec": {
   "display_name": "base",
   "language": "python",
   "name": "python3"
  },
  "language_info": {
   "codemirror_mode": {
    "name": "ipython",
    "version": 3
   },
   "file_extension": ".py",
   "mimetype": "text/x-python",
   "name": "python",
   "nbconvert_exporter": "python",
   "pygments_lexer": "ipython3",
   "version": "3.11.5"
  }
 },
 "nbformat": 4,
 "nbformat_minor": 2
}
